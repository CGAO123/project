{
  "nbformat": 4,
  "nbformat_minor": 0,
  "metadata": {
    "colab": {
      "provenance": [],
      "authorship_tag": "ABX9TyMWfbQ40AenyvcrHYBwC8aW",
      "include_colab_link": true
    },
    "kernelspec": {
      "name": "python3",
      "display_name": "Python 3"
    },
    "language_info": {
      "name": "python"
    }
  },
  "cells": [
    {
      "cell_type": "markdown",
      "metadata": {
        "id": "view-in-github",
        "colab_type": "text"
      },
      "source": [
        "<a href=\"https://colab.research.google.com/github/CGAO123/project/blob/master/test_yourself_3.ipynb\" target=\"_parent\"><img src=\"https://colab.research.google.com/assets/colab-badge.svg\" alt=\"Open In Colab\"/></a>"
      ]
    },
    {
      "cell_type": "code",
      "execution_count": null,
      "metadata": {
        "colab": {
          "base_uri": "https://localhost:8080/"
        },
        "id": "bisPWR-904mi",
        "outputId": "d098c0da-2446-4f7b-b26b-58ec310d7db3"
      },
      "outputs": [
        {
          "output_type": "stream",
          "name": "stdout",
          "text": [
            "--2022-09-24 18:47:44--  http://archive.ics.uci.edu/ml/machine-learning-databases/adult/adult.data\n",
            "Resolving archive.ics.uci.edu (archive.ics.uci.edu)... 128.195.10.252\n",
            "Connecting to archive.ics.uci.edu (archive.ics.uci.edu)|128.195.10.252|:80... connected.\n",
            "HTTP request sent, awaiting response... 200 OK\n",
            "Length: 3974305 (3.8M) [application/x-httpd-php]\n",
            "Saving to: ‘adult.data’\n",
            "\n",
            "\radult.data            0%[                    ]       0  --.-KB/s               \radult.data          100%[===================>]   3.79M  --.-KB/s    in 0.1s    \n",
            "\n",
            "2022-09-24 18:47:45 (39.8 MB/s) - ‘adult.data’ saved [3974305/3974305]\n",
            "\n"
          ]
        }
      ],
      "source": [
        "!wget http://archive.ics.uci.edu/ml/machine-learning-databases/adult/adult.data"
      ]
    },
    {
      "cell_type": "code",
      "source": [
        "!wc -l adult.data\n",
        "!touch new_adult.csv < adult.data\n",
        "!ls"
      ],
      "metadata": {
        "id": "-qrUqH0K1cPd",
        "colab": {
          "base_uri": "https://localhost:8080/"
        },
        "outputId": "ec1588c1-cf69-41a4-d444-4d01aa1a285f"
      },
      "execution_count": null,
      "outputs": [
        {
          "output_type": "stream",
          "name": "stdout",
          "text": [
            "32562 adult.data\n",
            "adult.data  new_adult.csv  sample_data\n"
          ]
        }
      ]
    }
  ]
}